{
 "cells": [
  {
   "cell_type": "code",
   "execution_count": null,
   "id": "bf63b93d-c26b-4c7d-9e06-2d46046f21b8",
   "metadata": {},
   "outputs": [],
   "source": [
    "import pandas as pd"
   ]
  },
  {
   "cell_type": "code",
   "execution_count": null,
   "id": "abf20cf6-489b-4dcf-aeaa-41a928cb1b9e",
   "metadata": {},
   "outputs": [],
   "source": [
    "df = pd.read_csv(\"/Users/f/Documents/Ironhack/data-wrangling-project/charging_data.csv\")"
   ]
  },
  {
   "cell_type": "code",
   "execution_count": null,
   "id": "0138654f-41eb-4270-9b34-6b9e52bdab15",
   "metadata": {},
   "outputs": [],
   "source": [
    "df"
   ]
  },
  {
   "cell_type": "code",
   "execution_count": null,
   "id": "7c19a690-2add-490c-bf35-c0987e94bcf7",
   "metadata": {},
   "outputs": [],
   "source": [
    "df[\"art_der_ladeeinrichung\"].value_counts()\n",
    "#translate the language with mapping function"
   ]
  },
  {
   "cell_type": "code",
   "execution_count": null,
   "id": "43d14da4-f756-4283-b45c-a51574517330",
   "metadata": {},
   "outputs": [],
   "source": [
    "df[\"kreis_kreisfreie_stadt\"].value_counts()"
   ]
  },
  {
   "cell_type": "code",
   "execution_count": null,
   "id": "01e2c349-2078-4430-8ea5-dcff273988eb",
   "metadata": {},
   "outputs": [],
   "source": [
    "df[\"anzahl_ladepunkte\"].value_counts()"
   ]
  },
  {
   "cell_type": "code",
   "execution_count": null,
   "id": "364a03e3-1701-4a22-9838-8220d5741efe",
   "metadata": {},
   "outputs": [],
   "source": [
    "df2 = pd.read_csv('/Users/f/Documents/Ironhack/data-wrangling-project/46241-0011_$F.csv')"
   ]
  },
  {
   "cell_type": "code",
   "execution_count": null,
   "id": "715151f5-3553-45c4-8ce4-190de6d2c85d",
   "metadata": {},
   "outputs": [],
   "source": [
    "import requests\n",
    "response = requests.get(\"https://ev-database.org/#sort:path~type~order=.rank~number~desc|rs-price:prev~next=10000~100000|rs-range:prev~next=0~1000|rs-fastcharge:prev~next=0~1500|rs-acceleration:prev~next=2~23|rs-topspeed:prev~next=110~350|rs-battery:prev~next=10~200|rs-towweight:prev~next=0~2500|rs-eff:prev~next=100~300|rs-safety:prev~next=-1~5|paging:currentPage=0|paging:number=9\",headers = {'User-Agent':'Mozilla/5.0 (Windows NT 6.3; Win 64 ; x64) Apple WeKit /537.36(KHTML , like Gecko) Chrome/80.0.3987.162 Safari/537.36'})\n",
    "response"
   ]
  },
  {
   "cell_type": "code",
   "execution_count": null,
   "id": "3e4c4303-fc52-4305-af25-49c9a5e58444",
   "metadata": {},
   "outputs": [],
   "source": [
    "from bs4 import BeautifulSoup\n",
    "soup = BeautifulSoup(response.content, \"html.parser\")"
   ]
  },
  {
   "cell_type": "code",
   "execution_count": null,
   "id": "5c8e2032-5150-4fdd-9aca-8290eafad690",
   "metadata": {},
   "outputs": [],
   "source": [
    "car_list = soup.find_all(\"href\", class_= \"title\")\n",
    "car_list"
   ]
  },
  {
   "cell_type": "code",
   "execution_count": null,
   "id": "633116d4-281e-4307-82b5-973d52f0b610",
   "metadata": {},
   "outputs": [],
   "source": [
    "registration = pd.read_csv(\"/Users/f/Documents/Ironhack/data-wrangling-project/Electric_Vehicle_Population_Data.csv\")"
   ]
  },
  {
   "cell_type": "code",
   "execution_count": null,
   "id": "8f43b81f-e002-44da-b13c-4cfde8795d60",
   "metadata": {},
   "outputs": [],
   "source": [
    "registration"
   ]
  },
  {
   "cell_type": "code",
   "execution_count": null,
   "id": "7e7c5861-e004-4288-b1d6-4e7cca0526ca",
   "metadata": {},
   "outputs": [],
   "source": [
    "price = pd.read_csv(\"/Users/f/Documents/Ironhack/data-wrangling-project/car_prices.csv\")"
   ]
  },
  {
   "cell_type": "code",
   "execution_count": null,
   "id": "735d3844-3169-42ac-9d22-ed3c88cf645a",
   "metadata": {},
   "outputs": [],
   "source": [
    "price"
   ]
  },
  {
   "cell_type": "code",
   "execution_count": null,
   "id": "c21b000c-fd2d-4fdb-923b-9a68299f1561",
   "metadata": {},
   "outputs": [],
   "source": [
    "price[\"make\"].value_counts().head(20)"
   ]
  },
  {
   "cell_type": "code",
   "execution_count": null,
   "id": "cecceeb7-bc81-4fc4-87e3-42afdce708d6",
   "metadata": {},
   "outputs": [],
   "source": [
    "import requests\n",
    "from bs4 import BeautifulSoup\n",
    "\n",
    "# Main URL to start with\n",
    "main_url = \"https://www.fueleconomy.gov/feg/\"\n",
    "response = requests.get(main_url)\n",
    "soup = BeautifulSoup(response.content, \"html.parser\")\n",
    "\n",
    "# Find the URL for the specific page containing emission data\n",
    "extend_url = \"https://www.fueleconomy.gov/feg/Find.do?action=sbs&id=45751\"\n",
    "response_2 = requests.get(extend_url)\n",
    "soup2 = BeautifulSoup(response_2.content, \"html.parser\")\n",
    "\n",
    "emision_data = []\n",
    "\n",
    "# Extract emission data from the second page\n",
    "emission_data = soup2.find_all(\"img\", src = \"/feg/photos/2023_Chevy_Bolt_EV.jpg\")\n",
    "emission_data.append(emission_data)\n",
    "\n",
    "# Print or process the extracted emission data\n",
    "print(emission_data)"
   ]
  },
  {
   "cell_type": "code",
   "execution_count": null,
   "id": "6a674072-5442-4f52-85ed-72c3e112f137",
   "metadata": {},
   "outputs": [],
   "source": [
    "main_url = [i.get(\"https://www.fueleconomy.gov/feg/\") for i in soup.find_all('img', src ='/feg/photos/2023_Chevy_Bolt_EV.jpg')]\n",
    "\n",
    "emission_data = []\n",
    "\n",
    "for href in href_list:\n",
    "    response = requests.get('https://www.fueleconomy.gov/feg/Find.do?action=sbs&id=45751' + src, headers=headers)\n",
    "    soup = BeautifulSoup(response.content, 'html.parser')\n",
    "    \n",
    "    # Extract actors from the cast section\n",
    "    emission_data = [emission_data.get_text() for emission_data in soup.find_all('a', attrs={'data-testid': 'title-cast-item__actor'})]\n",
    "    \n",
    "    # Append the list of actors to the all_actors list\n",
    "    emission_data.append(emission_data)\n"
   ]
  },
  {
   "cell_type": "code",
   "execution_count": 3,
   "id": "fc2c5c52-77ed-40a4-82fc-8e93802cc4a2",
   "metadata": {},
   "outputs": [
    {
     "name": "stdout",
     "output_type": "stream",
     "text": [
      "[[]]\n"
     ]
    }
   ],
   "source": [
    "import requests\n",
    "from bs4 import BeautifulSoup\n",
    "\n",
    "# Main URL\n",
    "main_url = \"https://www.fueleconomy.gov/feg/\"\n",
    "response = requests.get(main_url)\n",
    "soup = BeautifulSoup(response.content, \"html.parser\")\n",
    "\n",
    "# Find the URLs of the pages containing emission data\n",
    "extend_url = \"https://www.fueleconomy.gov/feg/Find.do?action=sbs&id=45751\"\n",
    "response_2 = requests.get(extend_url)\n",
    "soup2 = BeautifulSoup(response_2.content, \"html.parser\")\n",
    "\n",
    "# List to store emission data\n",
    "emission_data = []\n",
    "\n",
    "# Extract emission data from the page (replace with relevant data extraction code)\n",
    "# For example:\n",
    "emission_data.append(soup2.find_all(\"0\", class_ = \"sbsCellData\"))\n",
    "\n",
    "# Print or process the extracted emission data\n",
    "print(emission_data)\n"
   ]
  },
  {
   "cell_type": "code",
   "execution_count": 1,
   "id": "819d1ee8-2fd7-4b3b-9f36-f88c57ab80d8",
   "metadata": {},
   "outputs": [
    {
     "name": "stdout",
     "output_type": "stream",
     "text": [
      "[]\n"
     ]
    }
   ],
   "source": [
    "import requests\n",
    "from bs4 import BeautifulSoup\n",
    "\n",
    "# URL of the page containing the emission data\n",
    "url = \"https://www.fueleconomy.gov/feg/Find.do?action=sbs&id=45751\"\n",
    "response = requests.get(url)\n",
    "soup = BeautifulSoup(response.content, \"html.parser\")\n",
    "\n",
    "# Find the emission data\n",
    "emission_data = soup.find_all(\"td\", class_=\"ghg-score\")\n",
    "\n",
    "print(emission_data)"
   ]
  },
  {
   "cell_type": "code",
   "execution_count": 19,
   "id": "c8ca16b7-a389-49c4-95c6-504b8cf94a86",
   "metadata": {},
   "outputs": [
    {
     "ename": "TypeError",
     "evalue": "argument of type 'method' is not iterable",
     "output_type": "error",
     "traceback": [
      "\u001b[0;31m---------------------------------------------------------------------------\u001b[0m",
      "\u001b[0;31mTypeError\u001b[0m                                 Traceback (most recent call last)",
      "Cell \u001b[0;32mIn[19], line 34\u001b[0m\n\u001b[1;32m     27\u001b[0m emissions\n\u001b[1;32m     29\u001b[0m \u001b[38;5;66;03m#Display the DataFrame\u001b[39;00m\n\u001b[1;32m     30\u001b[0m \u001b[38;5;66;03m#emissions = float[(x.split()[0]) for x in emissions if 'grams' in x]\u001b[39;00m\n\u001b[1;32m     31\u001b[0m \u001b[38;5;66;03m#emission_value = emissions[0] if emissions else None\u001b[39;00m\n\u001b[1;32m     32\u001b[0m \u001b[38;5;66;03m#emission_value\u001b[39;00m\n\u001b[0;32m---> 34\u001b[0m emissions \u001b[38;5;241m=\u001b[39m [x\u001b[38;5;241m.\u001b[39msplit()[\u001b[38;5;241m0\u001b[39m] \u001b[38;5;28;01mfor\u001b[39;00m x \u001b[38;5;129;01min\u001b[39;00m emissions \u001b[38;5;28;01mif\u001b[39;00m \u001b[38;5;124m'\u001b[39m\u001b[38;5;124mgrams\u001b[39m\u001b[38;5;124m'\u001b[39m \u001b[38;5;129;01min\u001b[39;00m x]\n\u001b[1;32m     35\u001b[0m df \u001b[38;5;241m=\u001b[39m pd\u001b[38;5;241m.\u001b[39mDataFrame({\u001b[38;5;124m'\u001b[39m\u001b[38;5;124memissions\u001b[39m\u001b[38;5;124m'\u001b[39m: emissions})\n\u001b[1;32m     36\u001b[0m \u001b[38;5;28mprint\u001b[39m(df)\n",
      "Cell \u001b[0;32mIn[19], line 34\u001b[0m, in \u001b[0;36m<listcomp>\u001b[0;34m(.0)\u001b[0m\n\u001b[1;32m     27\u001b[0m emissions\n\u001b[1;32m     29\u001b[0m \u001b[38;5;66;03m#Display the DataFrame\u001b[39;00m\n\u001b[1;32m     30\u001b[0m \u001b[38;5;66;03m#emissions = float[(x.split()[0]) for x in emissions if 'grams' in x]\u001b[39;00m\n\u001b[1;32m     31\u001b[0m \u001b[38;5;66;03m#emission_value = emissions[0] if emissions else None\u001b[39;00m\n\u001b[1;32m     32\u001b[0m \u001b[38;5;66;03m#emission_value\u001b[39;00m\n\u001b[0;32m---> 34\u001b[0m emissions \u001b[38;5;241m=\u001b[39m [x\u001b[38;5;241m.\u001b[39msplit()[\u001b[38;5;241m0\u001b[39m] \u001b[38;5;28;01mfor\u001b[39;00m x \u001b[38;5;129;01min\u001b[39;00m emissions \u001b[38;5;28;01mif\u001b[39;00m \u001b[38;5;124m'\u001b[39m\u001b[38;5;124mgrams\u001b[39m\u001b[38;5;124m'\u001b[39m \u001b[38;5;129;01min\u001b[39;00m x]\n\u001b[1;32m     35\u001b[0m df \u001b[38;5;241m=\u001b[39m pd\u001b[38;5;241m.\u001b[39mDataFrame({\u001b[38;5;124m'\u001b[39m\u001b[38;5;124memissions\u001b[39m\u001b[38;5;124m'\u001b[39m: emissions})\n\u001b[1;32m     36\u001b[0m \u001b[38;5;28mprint\u001b[39m(df)\n",
      "\u001b[0;31mTypeError\u001b[0m: argument of type 'method' is not iterable"
     ]
    }
   ],
   "source": [
    "import pandas as pd\n",
    "import requests\n",
    "from bs4 import BeautifulSoup\n",
    "\n",
    "# Main URL\n",
    "main_url = \"https://www.fueleconomy.gov/feg/\"\n",
    "response = requests.get(main_url)\n",
    "soup = BeautifulSoup(response.content, \"html.parser\")\n",
    "\n",
    "url = \"https://www.fueleconomy.gov/feg/PowerSearch.do?action=noform&year1=2019&year2=2024&cbmkChevrolet=Chevrolet&cbmkFord=Ford&cbmkNissan=Nissan&minmsrpsel=0&maxmsrpsel=0&city=0&hwy=0&comb=0&YearSel=2019-2024&make=Chevrolet%3B+Ford%3B+Nissan&mclass=&vfuel=&vtype=&trany=&drive=&cyl=&MpgSel=000&sortBy=Comb&Units=&url=SearchServlet&opt=new&minmsrp=0&maxmsrp=0&minmpg=0&maxmpg=0&sCharge=&tCharge=&startstop=&cylDeact=&rowLimit=200&pageno=1&tabView=1\"\n",
    "response = requests.get(url)\n",
    "soup = BeautifulSoup(response.content, \"html.parser\")\n",
    "\n",
    "emissions = []\n",
    "\n",
    "# Find all emission components\n",
    "components = soup.find_all(\"div\", class_=\"ghg-score\")\n",
    "\n",
    "for component in components:\n",
    "    # Extract emission text\n",
    "    emission_text = component.get_text\n",
    "    # Append to emissions list\n",
    "    emissions.append(emission_text)\n",
    "\n",
    "# Create DataFrame\n",
    "df = pd.DataFrame({'emission': emissions})\n",
    "emissions\n",
    "\n",
    "#Display the DataFrame\n",
    "#emissions = float[(x.split()[0]) for x in emissions if 'grams' in x]\n",
    "#emission_value = emissions[0] if emissions else None\n",
    "#emission_value\n",
    "\n",
    "emissions = [x.split()[0] for x in emissions if 'grams' in x]\n",
    "df = pd.DataFrame({'emissions': emissions})\n",
    "print(df)\n",
    "\n",
    "# Extract the emission value without brackets\n",
    "emission_value = (emissions[0]) if emissions else None\n",
    "emission_value"
   ]
  },
  {
   "cell_type": "code",
   "execution_count": 12,
   "id": "e6fd5ca4-bc3c-432d-bd80-92c37fab551b",
   "metadata": {},
   "outputs": [
    {
     "ename": "TypeError",
     "evalue": "argument of type 'method' is not iterable",
     "output_type": "error",
     "traceback": [
      "\u001b[0;31m---------------------------------------------------------------------------\u001b[0m",
      "\u001b[0;31mTypeError\u001b[0m                                 Traceback (most recent call last)",
      "Cell \u001b[0;32mIn[12], line 2\u001b[0m\n\u001b[1;32m      1\u001b[0m \u001b[38;5;66;03m# Display the DataFrame\u001b[39;00m\n\u001b[0;32m----> 2\u001b[0m emissions \u001b[38;5;241m=\u001b[39m [x\u001b[38;5;241m.\u001b[39msplit()[\u001b[38;5;241m0\u001b[39m] \u001b[38;5;28;01mfor\u001b[39;00m x \u001b[38;5;129;01min\u001b[39;00m emissions \u001b[38;5;28;01mif\u001b[39;00m \u001b[38;5;124m'\u001b[39m\u001b[38;5;124mgrams\u001b[39m\u001b[38;5;124m'\u001b[39m \u001b[38;5;129;01min\u001b[39;00m x]\n\u001b[1;32m      3\u001b[0m df \u001b[38;5;241m=\u001b[39m pd\u001b[38;5;241m.\u001b[39mDataFrame({\u001b[38;5;124m'\u001b[39m\u001b[38;5;124memissions\u001b[39m\u001b[38;5;124m'\u001b[39m: emissions})\n\u001b[1;32m      4\u001b[0m \u001b[38;5;28mprint\u001b[39m(df)\n",
      "Cell \u001b[0;32mIn[12], line 2\u001b[0m, in \u001b[0;36m<listcomp>\u001b[0;34m(.0)\u001b[0m\n\u001b[1;32m      1\u001b[0m \u001b[38;5;66;03m# Display the DataFrame\u001b[39;00m\n\u001b[0;32m----> 2\u001b[0m emissions \u001b[38;5;241m=\u001b[39m [x\u001b[38;5;241m.\u001b[39msplit()[\u001b[38;5;241m0\u001b[39m] \u001b[38;5;28;01mfor\u001b[39;00m x \u001b[38;5;129;01min\u001b[39;00m emissions \u001b[38;5;28;01mif\u001b[39;00m \u001b[38;5;124m'\u001b[39m\u001b[38;5;124mgrams\u001b[39m\u001b[38;5;124m'\u001b[39m \u001b[38;5;129;01min\u001b[39;00m x]\n\u001b[1;32m      3\u001b[0m df \u001b[38;5;241m=\u001b[39m pd\u001b[38;5;241m.\u001b[39mDataFrame({\u001b[38;5;124m'\u001b[39m\u001b[38;5;124memissions\u001b[39m\u001b[38;5;124m'\u001b[39m: emissions})\n\u001b[1;32m      4\u001b[0m \u001b[38;5;28mprint\u001b[39m(df)\n",
      "\u001b[0;31mTypeError\u001b[0m: argument of type 'method' is not iterable"
     ]
    }
   ],
   "source": [
    "# Display the DataFrame\n",
    "emissions = [x.split()[0] for x in emissions if 'grams' in x]\n",
    "df = pd.DataFrame({'emissions': emissions})\n",
    "print(df)\n",
    "\n",
    "# Extract the emission value without brackets\n",
    "emission_value = float(emissions[0]) if emissions else None\n",
    "print(emission_value)"
   ]
  },
  {
   "cell_type": "code",
   "execution_count": 16,
   "id": "1df81340-ae7d-4da5-ae47-830b27f6a2cb",
   "metadata": {},
   "outputs": [
    {
     "ename": "SyntaxError",
     "evalue": "invalid syntax (3584659475.py, line 2)",
     "output_type": "error",
     "traceback": [
      "\u001b[0;36m  Cell \u001b[0;32mIn[16], line 2\u001b[0;36m\u001b[0m\n\u001b[0;31m    output = [<bound method PageElement.get_text of <div class=\"ghg-score\">0 grams/mile</div>>,\u001b[0m\n\u001b[0m              ^\u001b[0m\n\u001b[0;31mSyntaxError\u001b[0m\u001b[0;31m:\u001b[0m invalid syntax\n"
     ]
    }
   ],
   "source": []
  },
  {
   "cell_type": "code",
   "execution_count": 5,
   "id": "f5539afd-3a98-445b-8b8a-b8d803b47387",
   "metadata": {},
   "outputs": [
    {
     "name": "stdout",
     "output_type": "stream",
     "text": [
      "   emission\n",
      "16        0\n"
     ]
    }
   ],
   "source": [
    "# Extract only the numerical value without the unit from the \"emission\" column\n",
    "df['emission'] = df['emission'].apply(lambda x: x.split()[0] if len(x.split()) > 0 else None)\n",
    "\n",
    "# Filter the DataFrame to include only rows where the emission value is \"0\"\n",
    "filtered_df = df[df['emission'] == '0']\n",
    "\n",
    "# Print the filtered DataFrame\n",
    "print(filtered_df)\n"
   ]
  },
  {
   "cell_type": "code",
   "execution_count": null,
   "id": "d0a57123-8386-42d6-bd7c-ba0c805374c3",
   "metadata": {},
   "outputs": [],
   "source": [
    "import pandas as pd\n",
    "import requests\n",
    "from bs4 import BeautifulSoup\n",
    "\n",
    "def scrape_emissions(manufacturer):\n",
    "    # Construct the URL based on the manufacturer\n",
    "    url = f\"https://www.fueleconomy.gov/feg/PowerSearch.do?action=PowerSearch&year1=2019&year2=2024&cbmk{manufacturer}={manufacturer}&minmsrpsel=0&maxmsrpsel=0&city=0&highway=0&combined=0&YearSel=2019-2024&MakeSel={manufacturer}&MarClassSel=&FuelTypeSel=&VehTypeSel=&TranySel=&DriveTypeSel=&CylindersSel=&MpgSel=000&sortBy=Comb&Units=&url=SearchServlet&opt=new&minmsrp=0&maxmsrp=0&minmpg=0&maxmpg=0&sCharge=&tCharge=&startstop=&cylDeact=&rowLimit=10\"\n",
    "\n",
    "    # Send a GET request to the URL\n",
    "    response = requests.get(url)\n",
    "    soup = BeautifulSoup(response.content, \"html.parser\")\n",
    "\n",
    "    # Find emission data in the HTML\n",
    "    emission_data = soup.find(\"td\", class_=\"sbsCellData\").get_text(strip=True)\n",
    "\n",
    "    # Return the emission data\n",
    "    return emission_data\n",
    "\n",
    "# List of manufacturers to scrape data for\n",
    "manufacturers = ['Chevrolet', 'Ford', 'Nissan']\n",
    "\n",
    "# Iterate over the manufacturers and scrape emissions data\n",
    "for manufacturer in manufacturers:\n",
    "    emission_data = scrape_emissions(manufacturer)\n",
    "    print(f\"Emissions data for {manufacturer}: {emission_data}\")"
   ]
  },
  {
   "cell_type": "code",
   "execution_count": null,
   "id": "6d1f0145-59fb-4b0f-bb4a-197d2313b897",
   "metadata": {},
   "outputs": [],
   "source": [
    "import pandas as pd\n",
    "import requests\n",
    "from bs4 import BeautifulSoup\n",
    "\n",
    "def scrape_emissions(manufacturer):\n",
    "    # Construct the URL based on the manufacturer\n",
    "    url = f\"https://www.fueleconomy.gov/feg/PowerSearch.do?action=PowerSearch&year1=2019&year2=2024&cbmk{manufacturer}={manufacturer}&minmsrpsel=0&maxmsrpsel=0&city=0&highway=0&combined=0&YearSel=2019-2024&MakeSel={manufacturer}&MarClassSel=&FuelTypeSel=&VehTypeSel=&TranySel=&DriveTypeSel=&CylindersSel=&MpgSel=000&sortBy=Comb&Units=&url=SearchServlet&opt=new&minmsrp=0&maxmsrp=0&minmpg=0&maxmpg=0&sCharge=&tCharge=&startstop=&cylDeact=&rowLimit=10\"\n",
    "\n",
    "    # Send a GET request to the URL\n",
    "    response = requests.get(url)\n",
    "    soup = BeautifulSoup(response.content, \"html.parser\")\n",
    "\n",
    "    # Find emission data in the HTML\n",
    "    emission_element = soup.find(\"td\", class_=\"sbsCellData\")\n",
    "    \n",
    "    # Check if emission data is found\n",
    "    if emission_element:\n",
    "        # Extract text if element is found\n",
    "        emission_data = emission_element.get_text(strip=True)\n",
    "    else:\n",
    "        # If element is not found, return None\n",
    "        emission_data = None\n",
    "\n",
    "    # Return the emission data\n",
    "    return emission_data\n",
    "\n",
    "# List of manufacturers to scrape data for\n",
    "manufacturers = ['Chevrolet', 'Ford', 'Nissan']\n",
    "\n",
    "# Iterate over the manufacturers and scrape emissions data\n",
    "for manufacturer in manufacturers:\n",
    "    emission_data = scrape_emissions(manufacturer)\n",
    "    print(f\"Emissions data for {manufacturer}: {emission_data}\")\n"
   ]
  },
  {
   "cell_type": "code",
   "execution_count": null,
   "id": "119d756d-5508-48fe-836a-710ec9e2bdec",
   "metadata": {},
   "outputs": [],
   "source": [
    "import pandas as pd\n",
    "import requests\n",
    "from bs4 import BeautifulSoup\n",
    "\n",
    "def scrape_emissions(manufacturer, model):\n",
    "    # Construct the URL based on the manufacturer and model\n",
    "    url = f\"https://www.fueleconomy.gov/feg/PowerSearch.do?action=PowerSearch&year1=2019&year2=2024&cbmk{manufacturer}={model}&minmsrpsel=0&maxmsrpsel=0&city=0&highway=0&combined=0&YearSel=2019-2024&MakeSel={manufacturer}&MarClassSel=&FuelTypeSel=&VehTypeSel=&TranySel=&DriveTypeSel=&CylindersSel=&MpgSel=000&sortBy=Comb&Units=&url=SearchServlet&opt=new&minmsrp=0&maxmsrp=0&minmpg=0&maxmpg=0&sCharge=&tCharge=&startstop=&cylDeact=&rowLimit=10\"\n",
    "\n",
    "    # Send a GET request to the URL\n",
    "    response = requests.get(url)\n",
    "    soup = BeautifulSoup(response.content, \"html.parser\")\n",
    "\n",
    "    # Find emission data in the HTML\n",
    "    emission_element = soup.find(\"td\", class_=\"sbsCellData\")\n",
    "    \n",
    "    # Check if emission data is found\n",
    "    if emission_element:\n",
    "        # Extract text if element is found\n",
    "        emission_data = emission_element.get_text(strip=True)\n",
    "    else:\n",
    "        # If element is not found, return None\n",
    "        emission_data = None\n",
    "\n",
    "    # Return the emission data\n",
    "    return emission_data\n",
    "\n",
    "# List of Chevrolet models\n",
    "chevrolet_models = ['Bolt', 'Camaro', 'Equinox', 'Malibu', 'Silverado', 'Suburban', 'Tahoe', 'Traverse', 'Trax']\n",
    "\n",
    "# Scrape emissions data for each Chevrolet model\n",
    "for model in chevrolet_models:\n",
    "    manufacturer = 'Chevrolet'\n",
    "    emission_data = scrape_emissions(manufacturer, model)\n",
    "    print(f\"Emissions data for {manufacturer} {model}: {emission_data}\")\n"
   ]
  },
  {
   "cell_type": "code",
   "execution_count": null,
   "id": "a9c7b6a3-a961-4b20-b4fb-abecafb5559e",
   "metadata": {},
   "outputs": [],
   "source": [
    "import pandas as pd\n",
    "import requests as r\n",
    "from bs4 import BeautifulSoup as bs\n",
    "import numpy as np\n",
    "import os\n",
    "import matplotlib.pyplot as plt\n",
    "import seaborn as sns\n",
    "\n",
    "\n",
    "# Task: Columns -> Car Type, Emission and Price"
   ]
  },
  {
   "cell_type": "code",
   "execution_count": null,
   "id": "7ee585c1-0e0b-43eb-b933-734f8265f621",
   "metadata": {},
   "outputs": [],
   "source": [
    "base_url = \"https://www.fueleconomy.gov/feg/\"\n",
    "makers = [\"Chevrolet\", \"Ford\", \"Nissan\"]\n",
    "\n",
    "def get_data(base, maker):\n",
    "    mpge = []\n",
    "    mpg = []\n",
    "    battery = []\n",
    "    gas_tank = []\n",
    "    for m in maker:\n",
    "        page = 1\n",
    "        while True:\n",
    "            maker_url = f\"{base}PowerSearch.do?action=noform&path=4&year1=2019&year2=2024&make={m}&srchtyp=newMake&pageno={page}&rowLimit=50\"\n",
    "            response = r.get(maker_url)\n",
    "            soup = bs(response.content)\n",
    "        except:\n",
    "            \n",
    "        link = [x.get(\"href\") for x in soup.select(\"a[href]\")[154:210] if \"yourMpgVehicle\" not in x.get(\"href\")]\n",
    "\n",
    "        for l in link:\n",
    "            response = r.get(base+l)\n",
    "            soup = bs(response.content)\n",
    "            type = soup.find(\"td\", class_=\"fuel nobottomborder padding\").getText(strip=True)\n",
    "            \n",
    "            if type == \"Electricity\":\n",
    "                battery.append(soup.find_all(\"td\", class_=\"even sbsCellData\")[2].getText().split(\" \")[0]) #hrs per 240v\n",
    "                gas_tank.append(np.nan)\n",
    "                mpge.append(soup.find(\"td\", class_=\"combinedMPG\").getText().split(\":\")[1])\n",
    "                mpg.append(np.nan)\n",
    "            elif type in [\"Regular Gasoline\", \"Diesel\"]:\n",
    "                battery.append(np.nan)\n",
    "                gas_tank.append(soup.find_all(\"td\", class_=\"sbsEconData\")[2].getText().split(\" \")[0]) #gallons\n",
    "                mpge.append(np.nan)\n",
    "                mpg.append(soup.find(\"td\", class_=\"combinedMPG\").getText().split(\":\")[1])\n",
    "            else:\n",
    "                battery.append(soup.find_all(\"td\", class_=\"even sbsCellData\")[2].getText().split(\" \")[0]) #hrs per 240v\n",
    "                gas_tank.append(soup.find_all(\"td\", class_=\"sbsEconData\")[3].getText().split(\" \")[0]) #gallons\n",
    "                mpge.append(soup.find(\"td\", class_=\"combinedMPG\").getText().split(\":\")[1])\n",
    "                mpg.append(soup.find(\"td\", class_=\"combinedMPG\").getText().split(\":\")[1])\n",
    "\n",
    "    print(\"Creating Dictionary.\")\n",
    "    manufacturer_dict = {\"electric_consumption\":mpge, \"electric_storage\":battery,\n",
    "                        \"analogue_consumption\":mpg, \"analogue_storage\":gas_tank}\n",
    "    print(\"Returning Dataframe.\")\n",
    "    return pd.DataFrame(manufacturer_dict)\n",
    "\n",
    "manufacturer_df = get_data(base_url, makers)\n",
    "print(\"Finished\")"
   ]
  },
  {
   "cell_type": "code",
   "execution_count": null,
   "id": "86595fa7-47a7-43a7-9289-ec6f9c377ae2",
   "metadata": {},
   "outputs": [],
   "source": [
    "base_url = \"https://www.fueleconomy.gov/feg/\"\n",
    "makers = [\"Chevrolet\", \"Ford\", \"Nissan\"]"
   ]
  },
  {
   "cell_type": "code",
   "execution_count": null,
   "id": "13336957-bc29-44b5-9d89-ebc53bcee115",
   "metadata": {},
   "outputs": [],
   "source": [
    "def get_data(base, maker):\n",
    "    mpge = []\n",
    "    mpg = []\n",
    "    battery = []\n",
    "    gas_tank = []\n",
    "    for m in maker:\n",
    "        page = 1\n",
    "        while True:\n",
    "            maker_url = f\"{base}PowerSearch.do?action=noform&path=4&year1=2019&year2=2024&make={m}&srchtyp=newMake&pageno={page}&rowLimit=50\"\n",
    "            response = r.get(maker_url)\n",
    "            soup = bs(response.content)\n",
    "        except:\n",
    "            \n",
    "        link = [x.get(\"href\") for x in soup.select(\"a[href]\")[154:210] if \"yourMpgVehicle\" not in x.get(\"href\")]\n",
    "\n",
    "        for l in link:\n",
    "            response = r.get(base+l)\n",
    "            soup = bs(response.content)\n",
    "            type = soup.find(\"td\", class_=\"fuel nobottomborder padding\").getText(strip=True)\n",
    "            \n",
    "            if type == \"Electricity\":\n",
    "                battery.append(soup.find_all(\"td\", class_=\"even sbsCellData\")[2].getText().split(\" \")[0]) #hrs per 240v\n",
    "                gas_tank.append(np.nan)\n",
    "                mpge.append(soup.find(\"td\", class_=\"combinedMPG\").getText().split(\":\")[1])\n",
    "                mpg.append(np.nan)\n",
    "\n",
    "print(\"Creating Dictionary.\")\n",
    "    manufacturer_dict = {\"electric_consumption\":mpge, \"electric_storage\":battery,\n",
    "                        \"analogue_consumption\":mpg, \"analogue_storage\":gas_tank}\n",
    "    print(\"Returning Dataframe.\")\n",
    "    return pd.DataFrame(manufacturer_dict)\n",
    "\n",
    "manufacturer_df = get_data(base_url, makers)\n",
    "print(\"Finished\")"
   ]
  }
 ],
 "metadata": {
  "kernelspec": {
   "display_name": "Python 3 (ipykernel)",
   "language": "python",
   "name": "python3"
  },
  "language_info": {
   "codemirror_mode": {
    "name": "ipython",
    "version": 3
   },
   "file_extension": ".py",
   "mimetype": "text/x-python",
   "name": "python",
   "nbconvert_exporter": "python",
   "pygments_lexer": "ipython3",
   "version": "3.11.7"
  }
 },
 "nbformat": 4,
 "nbformat_minor": 5
}
