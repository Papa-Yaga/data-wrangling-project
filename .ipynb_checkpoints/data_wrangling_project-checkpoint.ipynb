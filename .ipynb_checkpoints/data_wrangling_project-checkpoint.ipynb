{
 "cells": [
  {
   "cell_type": "code",
   "execution_count": 12,
   "id": "448ba33f-d12d-4493-a1e9-bddcd4132854",
   "metadata": {},
   "outputs": [],
   "source": [
    "import pandas as pd\n",
    "import requests as r\n",
    "from bs4 import BeautifulSoup as bs\n",
    "import numpy as np\n",
    "import os\n",
    "import matplotlib.pyplot as plt\n",
    "import seaborn as sns\n",
    "\n",
    "base_url = \"https://www.fueleconomy.gov/feg/\"\n",
    "makers = [\"Chevrolet\", \"Nissan\", \"Ford\"]\n",
    "pages = "
   ]
  },
  {
   "cell_type": "code",
   "execution_count": 13,
   "id": "6882d21d-4708-4f80-b219-283c1196ff1f",
   "metadata": {},
   "outputs": [],
   "source": [
    "url = \"https://www.fueleconomy.gov/feg/PowerSearch.do?action=PowerSearch&year1=2019&year2=2024&cbmkFord=Ford&minmsrpsel=0&maxmsrpsel=0&city=0&highway=0&combined=0&YearSel=2019-2024&MakeSel=Ford&MarClassSel=&FuelTypeSel=&VehTypeSel=&TranySel=&DriveTypeSel=&CylindersSel=&MpgSel=000&sortBy=Comb&Units=&url=SearchServlet&opt=new&minmsrp=0&maxmsrp=0&minmpg=0&maxmpg=0&sCharge=&tCharge=&startstop=&cylDeact=&rowLimit=199\"\n",
    "page = r.get(url)\n",
    "soup = bs(page.content)"
   ]
  },
  {
   "cell_type": "code",
   "execution_count": 36,
   "id": "44091d5e-135d-4780-a163-359451eec3fb",
   "metadata": {},
   "outputs": [],
   "source": [
    "base_url = \"https://www.fueleconomy.gov/feg/\"\n",
    "makers = [\"Chevrolet\", \"Nissan\", \"Ford\"]\n",
    "\n",
    "manufacturers = []\n",
    "years = []\n",
    "for maker in makers:\n",
    "    page_number = 0\n",
    "    while True:\n",
    "        url = f\"{base_url}PowerSearch.do?action=noform&path=4&year1=2019&year2=2024&make={maker}&srchtyp=newMake&pageno={page_number}&rowLimit=200&sortBy=Comb&tabView=0\"\n",
    "        page = r.get(url)\n",
    "        soup = bs(page.content, \"html.parser\")\n",
    "        rows = soup.find_all(\"tr\", class_=\"ymm-row\")\n",
    "        if not rows:  # Check if there are no more rows, indicating the end of data\n",
    "            break\n",
    "        for tr in rows:\n",
    "            a_tags = tr.find_all(\"a\")\n",
    "            for a in a_tags:\n",
    "                manufacturers.append(a.text.split()[1])\n",
    "                years.append(a.text.split()[0])\n",
    "        page_number += 1"
   ]
  },
  {
   "cell_type": "code",
   "execution_count": null,
   "id": "65d54d0a-29b5-4eda-a291-b1518d08ae60",
   "metadata": {},
   "outputs": [],
   "source": [
    "years"
   ]
  },
  {
   "cell_type": "code",
   "execution_count": null,
   "id": "e7ac38a8-2f3b-48c8-89d1-f95b133d5ba0",
   "metadata": {},
   "outputs": [],
   "source": [
    "manufacturers"
   ]
  }
 ],
 "metadata": {
  "kernelspec": {
   "display_name": "Python 3 (ipykernel)",
   "language": "python",
   "name": "python3"
  },
  "language_info": {
   "codemirror_mode": {
    "name": "ipython",
    "version": 3
   },
   "file_extension": ".py",
   "mimetype": "text/x-python",
   "name": "python",
   "nbconvert_exporter": "python",
   "pygments_lexer": "ipython3",
   "version": "3.11.7"
  }
 },
 "nbformat": 4,
 "nbformat_minor": 5
}
